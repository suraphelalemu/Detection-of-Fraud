{
 "cells": [
  {
   "cell_type": "markdown",
   "id": "29b221a6",
   "metadata": {},
   "source": [
    "\n",
    "## Model Training\n"
   ]
  },
  {
   "cell_type": "code",
   "execution_count": 1,
   "id": "ca90878a",
   "metadata": {},
   "outputs": [
    {
     "name": "stderr",
     "output_type": "stream",
     "text": [
      "c:\\Users\\surap\\OneDrive\\Desktop\\10Acadamy\\Detection-of-Fraud\\myenv\\lib\\site-packages\\tqdm\\auto.py:21: TqdmWarning: IProgress not found. Please update jupyter and ipywidgets. See https://ipywidgets.readthedocs.io/en/stable/user_install.html\n",
      "  from .autonotebook import tqdm as notebook_tqdm\n"
     ]
    },
    {
     "name": "stdout",
     "output_type": "stream",
     "text": [
      "\n",
      "==================================================\n",
      "Training E-commerce Fraud Models\n",
      "==================================================\n",
      "\n",
      "=== Training Models for ecommerce ===\n"
     ]
    },
    {
     "name": "stderr",
     "output_type": "stream",
     "text": [
      "c:\\Users\\surap\\OneDrive\\Desktop\\10Acadamy\\Detection-of-Fraud\\myenv\\lib\\site-packages\\sklearn\\impute\\_base.py:635: UserWarning: Skipping features without any observed values: ['time_since_last_txn']. At least one non-missing value is needed for imputation with strategy='median'.\n",
      "  warnings.warn(\n",
      "c:\\Users\\surap\\OneDrive\\Desktop\\10Acadamy\\Detection-of-Fraud\\myenv\\lib\\site-packages\\sklearn\\impute\\_base.py:635: UserWarning: Skipping features without any observed values: ['time_since_last_txn']. At least one non-missing value is needed for imputation with strategy='median'.\n",
      "  warnings.warn(\n",
      "c:\\Users\\surap\\OneDrive\\Desktop\\10Acadamy\\Detection-of-Fraud\\myenv\\lib\\site-packages\\sklearn\\impute\\_base.py:635: UserWarning: Skipping features without any observed values: ['time_since_last_txn']. At least one non-missing value is needed for imputation with strategy='median'.\n",
      "  warnings.warn(\n",
      "c:\\Users\\surap\\OneDrive\\Desktop\\10Acadamy\\Detection-of-Fraud\\myenv\\lib\\site-packages\\sklearn\\impute\\_base.py:635: UserWarning: Skipping features without any observed values: ['time_since_last_txn']. At least one non-missing value is needed for imputation with strategy='median'.\n",
      "  warnings.warn(\n",
      "c:\\Users\\surap\\OneDrive\\Desktop\\10Acadamy\\Detection-of-Fraud\\myenv\\lib\\site-packages\\sklearn\\impute\\_base.py:635: UserWarning: Skipping features without any observed values: ['time_since_last_txn']. At least one non-missing value is needed for imputation with strategy='median'.\n",
      "  warnings.warn(\n",
      "c:\\Users\\surap\\OneDrive\\Desktop\\10Acadamy\\Detection-of-Fraud\\myenv\\lib\\site-packages\\sklearn\\impute\\_base.py:635: UserWarning: Skipping features without any observed values: ['time_since_last_txn']. At least one non-missing value is needed for imputation with strategy='median'.\n",
      "  warnings.warn(\n",
      "c:\\Users\\surap\\OneDrive\\Desktop\\10Acadamy\\Detection-of-Fraud\\myenv\\lib\\site-packages\\sklearn\\impute\\_base.py:635: UserWarning: Skipping features without any observed values: ['time_since_last_txn']. At least one non-missing value is needed for imputation with strategy='median'.\n",
      "  warnings.warn(\n"
     ]
    },
    {
     "name": "stdout",
     "output_type": "stream",
     "text": [
      "Logistic Regression CV AUC: 0.844 (±0.005)\n"
     ]
    },
    {
     "name": "stderr",
     "output_type": "stream",
     "text": [
      "c:\\Users\\surap\\OneDrive\\Desktop\\10Acadamy\\Detection-of-Fraud\\myenv\\lib\\site-packages\\xgboost\\training.py:183: UserWarning: [21:40:17] WARNING: C:\\actions-runner\\_work\\xgboost\\xgboost\\src\\learner.cc:738: \n",
      "Parameters: { \"use_label_encoder\" } are not used.\n",
      "\n",
      "  bst.update(dtrain, iteration=i, fobj=obj)\n",
      "c:\\Users\\surap\\OneDrive\\Desktop\\10Acadamy\\Detection-of-Fraud\\myenv\\lib\\site-packages\\sklearn\\impute\\_base.py:635: UserWarning: Skipping features without any observed values: ['time_since_last_txn']. At least one non-missing value is needed for imputation with strategy='median'.\n",
      "  warnings.warn(\n",
      "c:\\Users\\surap\\OneDrive\\Desktop\\10Acadamy\\Detection-of-Fraud\\myenv\\lib\\site-packages\\sklearn\\impute\\_base.py:635: UserWarning: Skipping features without any observed values: ['time_since_last_txn']. At least one non-missing value is needed for imputation with strategy='median'.\n",
      "  warnings.warn(\n",
      "c:\\Users\\surap\\OneDrive\\Desktop\\10Acadamy\\Detection-of-Fraud\\myenv\\lib\\site-packages\\xgboost\\training.py:183: UserWarning: [21:40:18] WARNING: C:\\actions-runner\\_work\\xgboost\\xgboost\\src\\learner.cc:738: \n",
      "Parameters: { \"use_label_encoder\" } are not used.\n",
      "\n",
      "  bst.update(dtrain, iteration=i, fobj=obj)\n",
      "c:\\Users\\surap\\OneDrive\\Desktop\\10Acadamy\\Detection-of-Fraud\\myenv\\lib\\site-packages\\sklearn\\impute\\_base.py:635: UserWarning: Skipping features without any observed values: ['time_since_last_txn']. At least one non-missing value is needed for imputation with strategy='median'.\n",
      "  warnings.warn(\n",
      "c:\\Users\\surap\\OneDrive\\Desktop\\10Acadamy\\Detection-of-Fraud\\myenv\\lib\\site-packages\\sklearn\\impute\\_base.py:635: UserWarning: Skipping features without any observed values: ['time_since_last_txn']. At least one non-missing value is needed for imputation with strategy='median'.\n",
      "  warnings.warn(\n",
      "c:\\Users\\surap\\OneDrive\\Desktop\\10Acadamy\\Detection-of-Fraud\\myenv\\lib\\site-packages\\xgboost\\training.py:183: UserWarning: [21:40:19] WARNING: C:\\actions-runner\\_work\\xgboost\\xgboost\\src\\learner.cc:738: \n",
      "Parameters: { \"use_label_encoder\" } are not used.\n",
      "\n",
      "  bst.update(dtrain, iteration=i, fobj=obj)\n",
      "c:\\Users\\surap\\OneDrive\\Desktop\\10Acadamy\\Detection-of-Fraud\\myenv\\lib\\site-packages\\sklearn\\impute\\_base.py:635: UserWarning: Skipping features without any observed values: ['time_since_last_txn']. At least one non-missing value is needed for imputation with strategy='median'.\n",
      "  warnings.warn(\n"
     ]
    },
    {
     "name": "stdout",
     "output_type": "stream",
     "text": [
      "XGBoost CV AUC: 0.843 (±0.004)\n"
     ]
    },
    {
     "name": "stderr",
     "output_type": "stream",
     "text": [
      "c:\\Users\\surap\\OneDrive\\Desktop\\10Acadamy\\Detection-of-Fraud\\myenv\\lib\\site-packages\\sklearn\\impute\\_base.py:635: UserWarning: Skipping features without any observed values: ['time_since_last_txn']. At least one non-missing value is needed for imputation with strategy='median'.\n",
      "  warnings.warn(\n",
      "c:\\Users\\surap\\OneDrive\\Desktop\\10Acadamy\\Detection-of-Fraud\\myenv\\lib\\site-packages\\sklearn\\impute\\_base.py:635: UserWarning: Skipping features without any observed values: ['time_since_last_txn']. At least one non-missing value is needed for imputation with strategy='median'.\n",
      "  warnings.warn(\n",
      "c:\\Users\\surap\\OneDrive\\Desktop\\10Acadamy\\Detection-of-Fraud\\myenv\\lib\\site-packages\\xgboost\\training.py:183: UserWarning: [21:40:21] WARNING: C:\\actions-runner\\_work\\xgboost\\xgboost\\src\\learner.cc:738: \n",
      "Parameters: { \"use_label_encoder\" } are not used.\n",
      "\n",
      "  bst.update(dtrain, iteration=i, fobj=obj)\n"
     ]
    },
    {
     "name": "stdout",
     "output_type": "stream",
     "text": [
      "\n",
      "=== Evaluation Results ===\n"
     ]
    },
    {
     "name": "stderr",
     "output_type": "stream",
     "text": [
      "c:\\Users\\surap\\OneDrive\\Desktop\\10Acadamy\\Detection-of-Fraud\\myenv\\lib\\site-packages\\sklearn\\impute\\_base.py:635: UserWarning: Skipping features without any observed values: ['time_since_last_txn']. At least one non-missing value is needed for imputation with strategy='median'.\n",
      "  warnings.warn(\n",
      "c:\\Users\\surap\\OneDrive\\Desktop\\10Acadamy\\Detection-of-Fraud\\myenv\\lib\\site-packages\\sklearn\\impute\\_base.py:635: UserWarning: Skipping features without any observed values: ['time_since_last_txn']. At least one non-missing value is needed for imputation with strategy='median'.\n",
      "  warnings.warn(\n",
      "c:\\Users\\surap\\OneDrive\\Desktop\\10Acadamy\\Detection-of-Fraud\\myenv\\lib\\site-packages\\sklearn\\impute\\_base.py:635: UserWarning: Skipping features without any observed values: ['time_since_last_txn']. At least one non-missing value is needed for imputation with strategy='median'.\n",
      "  warnings.warn(\n",
      "c:\\Users\\surap\\OneDrive\\Desktop\\10Acadamy\\Detection-of-Fraud\\myenv\\lib\\site-packages\\sklearn\\impute\\_base.py:635: UserWarning: Skipping features without any observed values: ['time_since_last_txn']. At least one non-missing value is needed for imputation with strategy='median'.\n",
      "  warnings.warn(\n"
     ]
    },
    {
     "name": "stdout",
     "output_type": "stream",
     "text": [
      "SHAP analysis failed: [21:40:23] C:\\actions-runner\\_work\\xgboost\\xgboost\\src\\c_api\\c_api_utils.h:129: Check failed: std::accumulate(shape.cbegin(), shape.cend(), static_cast<bst_ulong>(1), std::multiplies<>{}) == chunksize * rows (17000 vs. 16000) : \n",
      "\n",
      "==================================================\n",
      "Training Credit Card Fraud Models\n",
      "==================================================\n",
      "\n",
      "=== Training Models for creditcard ===\n",
      "Logistic Regression CV AUC: 0.972 (±0.005)\n"
     ]
    },
    {
     "name": "stderr",
     "output_type": "stream",
     "text": [
      "c:\\Users\\surap\\OneDrive\\Desktop\\10Acadamy\\Detection-of-Fraud\\myenv\\lib\\site-packages\\xgboost\\training.py:183: UserWarning: [21:40:33] WARNING: C:\\actions-runner\\_work\\xgboost\\xgboost\\src\\learner.cc:738: \n",
      "Parameters: { \"use_label_encoder\" } are not used.\n",
      "\n",
      "  bst.update(dtrain, iteration=i, fobj=obj)\n",
      "c:\\Users\\surap\\OneDrive\\Desktop\\10Acadamy\\Detection-of-Fraud\\myenv\\lib\\site-packages\\xgboost\\training.py:183: UserWarning: [21:40:36] WARNING: C:\\actions-runner\\_work\\xgboost\\xgboost\\src\\learner.cc:738: \n",
      "Parameters: { \"use_label_encoder\" } are not used.\n",
      "\n",
      "  bst.update(dtrain, iteration=i, fobj=obj)\n",
      "c:\\Users\\surap\\OneDrive\\Desktop\\10Acadamy\\Detection-of-Fraud\\myenv\\lib\\site-packages\\xgboost\\training.py:183: UserWarning: [21:40:39] WARNING: C:\\actions-runner\\_work\\xgboost\\xgboost\\src\\learner.cc:738: \n",
      "Parameters: { \"use_label_encoder\" } are not used.\n",
      "\n",
      "  bst.update(dtrain, iteration=i, fobj=obj)\n"
     ]
    },
    {
     "name": "stdout",
     "output_type": "stream",
     "text": [
      "XGBoost CV AUC: 0.970 (±0.010)\n"
     ]
    },
    {
     "name": "stderr",
     "output_type": "stream",
     "text": [
      "c:\\Users\\surap\\OneDrive\\Desktop\\10Acadamy\\Detection-of-Fraud\\myenv\\lib\\site-packages\\xgboost\\training.py:183: UserWarning: [21:40:46] WARNING: C:\\actions-runner\\_work\\xgboost\\xgboost\\src\\learner.cc:738: \n",
      "Parameters: { \"use_label_encoder\" } are not used.\n",
      "\n",
      "  bst.update(dtrain, iteration=i, fobj=obj)\n"
     ]
    },
    {
     "name": "stdout",
     "output_type": "stream",
     "text": [
      "\n",
      "=== Evaluation Results ===\n"
     ]
    },
    {
     "data": {
      "text/plain": [
       "<Figure size 640x480 with 0 Axes>"
      ]
     },
     "metadata": {},
     "output_type": "display_data"
    },
    {
     "data": {
      "text/plain": [
       "<Figure size 640x480 with 0 Axes>"
      ]
     },
     "metadata": {},
     "output_type": "display_data"
    },
    {
     "data": {
      "text/plain": [
       "<Figure size 640x480 with 0 Axes>"
      ]
     },
     "metadata": {},
     "output_type": "display_data"
    }
   ],
   "source": [
    "\n",
    "\n",
    "import numpy as np\n",
    "import shap\n",
    "import pandas as pd\n",
    "import matplotlib.pyplot as plt\n",
    "from sklearn.model_selection import train_test_split\n",
    "from imblearn.pipeline import make_pipeline\n",
    "from sklearn.linear_model import LogisticRegression\n",
    "from xgboost import XGBClassifier\n",
    "from imblearn.over_sampling import SMOTE\n",
    "from sklearn.impute import SimpleImputer  # <--- added\n",
    "\n",
    "def train_models_enhanced(X_train, y_train, X_test, y_test, dataset_name):\n",
    "    \"\"\"\n",
    "    Enhanced model training with better imbalance handling and error checking\n",
    "    \n",
    "    Args:\n",
    "        X_train: Training features\n",
    "        y_train: Training labels\n",
    "        X_test: Test features\n",
    "        y_test: Test labels\n",
    "        dataset_name: Name for saving results\n",
    "        \n",
    "    Returns:\n",
    "        Dictionary containing trained models and metrics\n",
    "    \"\"\"\n",
    "    \n",
    "    # =============================================\n",
    "    # 1. Improved Class Imbalance Handling\n",
    "    # =============================================\n",
    "    \n",
    "    neg, pos = np.bincount(y_train)\n",
    "    scale_pos_weight = neg / pos  # Recommended for XGBoost\n",
    "    \n",
    "    # =============================================\n",
    "    # 2. Model Pipelines with Imputer before SMOTE\n",
    "    # =============================================\n",
    "    \n",
    "    lr_pipe = make_pipeline(\n",
    "        SimpleImputer(strategy='median'),  # <--- impute missing values first\n",
    "        SMOTE(random_state=42, sampling_strategy=0.3),\n",
    "        LogisticRegression(\n",
    "            max_iter=1000,\n",
    "            class_weight='balanced',\n",
    "            solver='liblinear',\n",
    "            random_state=42\n",
    "        )\n",
    "    )\n",
    "    \n",
    "    xgb_pipe = make_pipeline(\n",
    "        SimpleImputer(strategy='median'),  # <--- impute missing values first\n",
    "        SMOTE(random_state=42, sampling_strategy=0.3),\n",
    "        XGBClassifier(\n",
    "            scale_pos_weight=scale_pos_weight,\n",
    "            eval_metric='logloss',\n",
    "            use_label_encoder=False,\n",
    "            n_estimators=200,\n",
    "            max_depth=5,\n",
    "            learning_rate=0.1,\n",
    "            subsample=0.8,\n",
    "            colsample_bytree=0.8,\n",
    "            random_state=42\n",
    "        )\n",
    "    )\n",
    "    \n",
    "    # =============================================\n",
    "    # 3. Training with Cross-Validation\n",
    "    # =============================================\n",
    "    \n",
    "    from sklearn.model_selection import cross_val_score\n",
    "    \n",
    "    print(f\"\\n=== Training Models for {dataset_name} ===\")\n",
    "    \n",
    "    lr_scores = cross_val_score(lr_pipe, X_train, y_train, cv=3, scoring='roc_auc')\n",
    "    print(f\"Logistic Regression CV AUC: {lr_scores.mean():.3f} (±{lr_scores.std():.3f})\")\n",
    "    \n",
    "    xgb_scores = cross_val_score(xgb_pipe, X_train, y_train, cv=3, scoring='roc_auc')\n",
    "    print(f\"XGBoost CV AUC: {xgb_scores.mean():.3f} (±{xgb_scores.std():.3f})\")\n",
    "    \n",
    "    # =============================================\n",
    "    # 4. Final Model Training\n",
    "    # =============================================\n",
    "    \n",
    "    lr_pipe.fit(X_train, y_train)\n",
    "    xgb_pipe.fit(X_train, y_train)\n",
    "    \n",
    "    # =============================================\n",
    "    # 5. Enhanced Evaluation\n",
    "    # =============================================\n",
    "    \n",
    "    def evaluate_model(model, X, y, model_name):\n",
    "        from sklearn.metrics import (precision_recall_curve, average_precision_score,\n",
    "                                     roc_curve, roc_auc_score,\n",
    "                                     confusion_matrix, classification_report)\n",
    "        \n",
    "        y_pred = model.predict(X)\n",
    "        y_proba = model.predict_proba(X)[:, 1]\n",
    "        \n",
    "        metrics = {\n",
    "            'roc_auc': roc_auc_score(y, y_proba),\n",
    "            'pr_auc': average_precision_score(y, y_proba),\n",
    "            'confusion_matrix': confusion_matrix(y, y_pred),\n",
    "            'classification_report': classification_report(y, y_pred, output_dict=True)\n",
    "        }\n",
    "        \n",
    "        plt.figure(figsize=(12, 5))\n",
    "        \n",
    "        # ROC Curve\n",
    "        plt.subplot(1, 2, 1)\n",
    "        fpr, tpr, _ = roc_curve(y, y_proba)\n",
    "        plt.plot(fpr, tpr, label=f\"AUC = {metrics['roc_auc']:.3f}\")\n",
    "        plt.plot([0, 1], [0, 1], 'k--')\n",
    "        plt.xlabel('False Positive Rate')\n",
    "        plt.ylabel('True Positive Rate')\n",
    "        plt.title(f'ROC Curve - {model_name}')\n",
    "        plt.legend()\n",
    "        \n",
    "        # PR Curve\n",
    "        plt.subplot(1, 2, 2)\n",
    "        precision, recall, _ = precision_recall_curve(y, y_proba)\n",
    "        plt.plot(recall, precision, label=f\"AP = {metrics['pr_auc']:.3f}\")\n",
    "        plt.xlabel('Recall')\n",
    "        plt.ylabel('Precision')\n",
    "        plt.title(f'PR Curve - {model_name}')\n",
    "        plt.legend()\n",
    "        \n",
    "        plt.tight_layout()\n",
    "        plt.savefig(f'../reports/figures/{dataset_name}_{model_name}_curves.png')\n",
    "        plt.close()\n",
    "        \n",
    "        return metrics\n",
    "    \n",
    "    print(\"\\n=== Evaluation Results ===\")\n",
    "    lr_metrics = evaluate_model(lr_pipe, X_test, y_test, \"LogisticRegression\")\n",
    "    xgb_metrics = evaluate_model(xgb_pipe, X_test, y_test, \"XGBoost\")\n",
    "    \n",
    "    # =============================================\n",
    "    # 6. SHAP Analysis (Conditional Import)\n",
    "    # =============================================\n",
    "    \n",
    "    shap_results = {}\n",
    "    try:\n",
    "        explainer = shap.Explainer(xgb_pipe.named_steps['xgbclassifier'])\n",
    "        shap_values = explainer(X_train.iloc[:1000])\n",
    "        \n",
    "        plt.figure()\n",
    "        shap.summary_plot(shap_values, X_train.iloc[:1000], show=False)\n",
    "        plt.savefig(f'../reports/figures/{dataset_name}_shap_summary.png')\n",
    "        plt.close()\n",
    "        \n",
    "        top_features = np.abs(shap_values.values).mean(0).argsort()[-3:][::-1]\n",
    "        for feat_idx in top_features:\n",
    "            feat_name = X_train.columns[feat_idx]\n",
    "            plt.figure()\n",
    "            shap.dependence_plot(feat_idx, shap_values.values, X_train.iloc[:1000],\n",
    "                                interaction_index=None, show=False)\n",
    "            plt.savefig(f'../reports/figures/{dataset_name}_shap_{feat_name}.png')\n",
    "            plt.close()\n",
    "            \n",
    "        shap_results['shap_values'] = shap_values\n",
    "    except Exception as e:\n",
    "        print(f\"SHAP analysis failed: {str(e)}\")\n",
    "        shap_results['error'] = str(e)\n",
    "    \n",
    "    return {\n",
    "        'logistic_regression': (lr_pipe, lr_metrics),\n",
    "        'xgboost': (xgb_pipe, xgb_metrics),\n",
    "        'shap': shap_results\n",
    "    }\n",
    "\n",
    "# =============================================\n",
    "# Execute Training with Error Handling\n",
    "# =============================================\n",
    "\n",
    "try:\n",
    "    fraud_data_fe = pd.read_csv('../data/fraud_data_fe.csv.gz', compression='gzip')\n",
    "    credit_data_clean = pd.read_csv('../data/credit_data_clean.csv')\n",
    "    columns_to_drop = ['user_id', 'device_id', 'signup_time', 'purchase_time', 'ip_address', 'class']\n",
    "    X_fraud = fraud_data_fe.drop(columns=[col for col in columns_to_drop if col in fraud_data_fe.columns])\n",
    "\n",
    "    y_fraud = fraud_data_fe['class']\n",
    "    \n",
    "    # Split data\n",
    "    X_train_f, X_test_f, y_train_f, y_test_f = train_test_split(\n",
    "        X_fraud, y_fraud, test_size=0.2, random_state=42, stratify=y_fraud)\n",
    "    \n",
    "    print(\"\\n\" + \"=\"*50)\n",
    "    print(\"Training E-commerce Fraud Models\")\n",
    "    print(\"=\"*50)\n",
    "    fraud_results = train_models_enhanced(X_train_f, y_train_f, X_test_f, y_test_f, 'ecommerce')\n",
    "    \n",
    "    # Credit card data\n",
    "    X_credit = credit_data_clean.drop('Class', axis=1)\n",
    "    y_credit = credit_data_clean['Class']\n",
    "    X_train_c, X_test_c, y_train_c, y_test_c = train_test_split(\n",
    "        X_credit, y_credit, test_size=0.2, random_state=42, stratify=y_credit)\n",
    "    \n",
    "    print(\"\\n\" + \"=\"*50)\n",
    "    print(\"Training Credit Card Fraud Models\")\n",
    "    print(\"=\"*50)\n",
    "    credit_results = train_models_enhanced(X_train_c, y_train_c, X_test_c, y_test_c, 'creditcard')\n",
    "    \n",
    "except Exception as e:\n",
    "    print(f\"Error during model training: {str(e)}\")"
   ]
  }
 ],
 "metadata": {
  "kernelspec": {
   "display_name": "myenv",
   "language": "python",
   "name": "python3"
  },
  "language_info": {
   "codemirror_mode": {
    "name": "ipython",
    "version": 3
   },
   "file_extension": ".py",
   "mimetype": "text/x-python",
   "name": "python",
   "nbconvert_exporter": "python",
   "pygments_lexer": "ipython3",
   "version": "3.10.6"
  }
 },
 "nbformat": 4,
 "nbformat_minor": 5
}
